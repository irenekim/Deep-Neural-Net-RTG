{
 "cells": [
  {
   "cell_type": "code",
   "execution_count": 77,
   "metadata": {},
   "outputs": [],
   "source": [
    "#import necessary libraries\n",
    "\n",
    "import tensorflow as tf\n",
    "import pandas as pd\n",
    "import numpy as np\n",
    "import matplotlib.pyplot as plt\n",
    "from sklearn.model_selection import train_test_split\n",
    "from sklearn.preprocessing import MinMaxScaler, StandardScaler\n",
    "#matplotlib.use('Agg')\n",
    "import matplotlib.pyplot as plt\n",
    "import matplotlib\n",
    "%matplotlib inline\n",
    "#plt.ioff()"
   ]
  },
  {
   "cell_type": "code",
   "execution_count": 78,
   "metadata": {},
   "outputs": [
    {
     "name": "stdout",
     "output_type": "stream",
     "text": [
      "(5875, 17)\n",
      "(5875, 1)\n"
     ]
    }
   ],
   "source": [
    "data = pd.read_csv('/Users/irene/Documents/UCD/2019_spring/RTG_presentation/code/parkinsons_updrs.txt')\n",
    "Output = np.array(data.iloc[:,5:6])\n",
    "list = [1,2]\n",
    "list.extend(range(7,data.shape[1]))\n",
    "Input = np.array(data.iloc[:,list])\n",
    "print(np.shape(Input))\n",
    "print(np.shape(Output))"
   ]
  },
  {
   "cell_type": "code",
   "execution_count": 93,
   "metadata": {},
   "outputs": [
    {
     "name": "stdout",
     "output_type": "stream",
     "text": [
      "1\n"
     ]
    }
   ],
   "source": [
    "#normalize each variable both input and output\n",
    "for i in range(Input.shape[1]):\n",
    "    Input[:,i] = (Input[:,i] - np.mean(Input[:,i]))/np.std(Input[:,i])\n",
    "\n",
    "for i in range(Output.shape[1]):\n",
    "    Output[:,i] = (Output[:,i] - np.mean(Output[:,i]))/np.std(Output[:,i])\n",
    "\n",
    "#mx = MinMaxScaler((np.min(Output),np.max(Output)))\n",
    "#Output = mx.fit_transform(Output)\n",
    "\n",
    "train_Input, test_Input, train_Output, test_Output = train_test_split(Input, \\\n",
    "                                                    Output, test_size=0.2, random_state=42)\n",
    "\n",
    "train_size, num_inputs = train_Input.shape\n",
    "test_size, num_outputs = test_Output.shape"
   ]
  },
  {
   "cell_type": "code",
   "execution_count": 110,
   "metadata": {},
   "outputs": [],
   "source": [
    "# Define architecture (4 layer)\n",
    "# This part only defines the computation.\n",
    "# It doesn't compute anything, it doesn't hold any values, \n",
    "# it just defines the operations that you specified in your code\n",
    "num_nodes1 = 32\n",
    "num_nodes2 = 16\n",
    "num_nodes3 = 16\n",
    "num_nodes4 = 16\n",
    "\n",
    "#set up the data that will be specified as placeholders\n",
    "tf_train_data = tf.placeholder(tf.float32, shape=[None, num_inputs])\n",
    "tf_train_out = tf.placeholder(tf.float32, shape=[None, num_outputs])\n",
    "\n",
    "layer_num = 4\n",
    "\n",
    "#setup the initial values of weights and biases as variables(variables are trainable)\n",
    "def weights_and_biases(a, b):\n",
    "    '''\n",
    "    function that creates weights and biases\n",
    "    '''\n",
    "    w = tf.Variable(tf.truncated_normal(shape=[a, b], stddev=tf.sqrt(2.0 / a)))\n",
    "    b = tf.Variable(tf.zeros([b]))\n",
    "    return w, b\n",
    "\n",
    "W1, b1 = weights_and_biases(num_inputs, num_nodes1)\n",
    "W2, b2 = weights_and_biases(num_nodes1, num_nodes2)\n",
    "W3, b3 = weights_and_biases(num_nodes2, num_nodes3)\n",
    "W4, b4 = weights_and_biases(num_nodes3, num_nodes4)\n",
    "W5, b5 = weights_and_biases(num_nodes4, num_outputs)\n",
    "\n",
    "#setup the computation procedure for each layer (there are other options such as tf.layers.dense...)\n",
    "activation1 = tf.nn.leaky_relu(tf.add(tf.matmul(tf_train_data, W1), b1), alpha = 0.1)\n",
    "#activation1 = tf.layers.dense(tf_train_data, num_nodes1, tf.nn.relu)\n",
    "#activation1 = tf.layers.dropout( activation1, rate = 0.5 ) \n",
    "activation2 = tf.nn.leaky_relu(tf.add(tf.matmul(activation1, W2), b2), alpha = 0.1)\n",
    "activation3 = tf.nn.leaky_relu(tf.add(tf.matmul(activation2, W3), b3), alpha = 0.1)\n",
    "activation4 = tf.nn.leaky_relu(tf.add(tf.matmul(activation3, W4), b4), alpha = 0.1)\n",
    "fitted = tf.nn.relu(tf.matmul(activation3, W5))\n",
    "\n",
    "#define Loss\n",
    "#loss = tf.reduce_mean(tf.square(tf.subtract(tf_train_out, fitted))) + lam*tf.reduce_sum(tf.pow(W1,2))\n",
    "lam = 0.1\n",
    "l1_regularizer = tf.contrib.layers.l1_regularizer(scale=0.005, scope=None)\n",
    "weights = tf.trainable_variables()\n",
    "regularization_penalty = tf.contrib.layers.apply_regularization(l1_regularizer, weights)\n",
    "\n",
    "loss = tf.losses.mean_squared_error(tf_train_out, fitted) +  regularization_penalty\n",
    "mae = tf.losses.absolute_difference(tf_train_out, fitted)\n",
    "\n",
    "#define Optimizer\n",
    "optimizer = tf.train.AdamOptimizer().minimize(loss)\n",
    "#start_learn_rate1 = 0.0001\n",
    "#global_step1 = tf.Variable(0)\n",
    "#learn_rate1 = tf.train.exponential_decay(start_learn_rate1, global_step1, 10000, 0.8, staircase=True)\n",
    "#optimizer1 = tf.train.AdamOptimizer(learn_rate1).minimize(loss_Lp)"
   ]
  },
  {
   "cell_type": "code",
   "execution_count": 111,
   "metadata": {},
   "outputs": [],
   "source": [
    "def shuffle_aligned_list(data):\n",
    "    \"\"\"Shuffle arrays in a list by shuffling each array identically.\"\"\"\n",
    "    num = data[0].shape[0]\n",
    "    p = np.random.permutation(num)\n",
    "    return [d[p] for d in data]\n",
    "\n",
    "def batch_generator(data, batch_size, shuffle=True, test=False):\n",
    "    if shuffle:\n",
    "        data = shuffle_aligned_list(data)\n",
    "    batch_count = 0\n",
    "    while True:\n",
    "        if test:\n",
    "            if batch_count * batch_size >= len(data[0]):\n",
    "                batch_count = 0\n",
    "                if shuffle:\n",
    "                    data = shuffle_aligned_list(data)\n",
    "        else:\n",
    "            if batch_count * batch_size + batch_size >= len(data[0]):\n",
    "                batch_count = 0\n",
    "                if shuffle:\n",
    "                    data = shuffle_aligned_list(data)\n",
    "        start = batch_count * batch_size\n",
    "        end = start + batch_size\n",
    "        batch_count += 1\n",
    "        yield [d[start:end] for d in data]"
   ]
  },
  {
   "cell_type": "code",
   "execution_count": 112,
   "metadata": {},
   "outputs": [
    {
     "name": "stdout",
     "output_type": "stream",
     "text": [
      "Starting to train model...\n",
      "step 0, training loss: 53.8218,test loss: 53.598\n",
      "step 1000, training loss: 1.20353,test loss: 1.17561\n",
      "step 2000, training loss: 0.972535,test loss: 0.903583\n",
      "step 3000, training loss: 0.735901,test loss: 0.836117\n",
      "step 4000, training loss: 0.854921,test loss: 0.811532\n",
      "step 5000, training loss: 0.818716,test loss: 0.803012\n",
      "step 6000, training loss: 0.94108,test loss: 0.793397\n",
      "step 7000, training loss: 0.953835,test loss: 0.788137\n",
      "step 8000, training loss: 0.916935,test loss: 0.782945\n",
      "step 9000, training loss: 1.32507,test loss: 0.782228\n",
      "step 10000, training loss: 0.660299,test loss: 0.777005\n",
      "step 11000, training loss: 0.774175,test loss: 0.769908\n",
      "step 12000, training loss: 0.803975,test loss: 0.768617\n",
      "step 13000, training loss: 0.706853,test loss: 0.765471\n",
      "step 14000, training loss: 0.848588,test loss: 0.783086\n",
      "step 15000, training loss: 0.732444,test loss: 0.75782\n",
      "step 16000, training loss: 1.01065,test loss: 0.757395\n",
      "step 17000, training loss: 0.846197,test loss: 0.753865\n",
      "step 18000, training loss: 0.818057,test loss: 0.754706\n",
      "step 19000, training loss: 0.68581,test loss: 0.762709\n"
     ]
    }
   ],
   "source": [
    "#A session allows to execute the model.\n",
    "\n",
    "sess = tf.Session()\n",
    "init = tf.global_variables_initializer()#initializer that initializes the variables\n",
    "sess.run(init)#initialization\n",
    "print(\"Starting to train model...\")\n",
    "\n",
    "batch_size = 50\n",
    "gen_batch = batch_generator([Input, Output], batch_size)\n",
    "\n",
    "train_losses, test_losses, mean_abs_errs, test_Ys = ([] for i in range(4))\n",
    "\n",
    "for i in range(20000): #number of iterations\n",
    "#i = 0\n",
    "#while testloss_kl>10:\n",
    "    input_batch, output_batch = next(gen_batch)\n",
    "    _,train_loss = sess.run([optimizer,loss], feed_dict={tf_train_data: input_batch, \\\n",
    "            tf_train_out: output_batch})\n",
    "    \n",
    "    if np.isnan(train_loss):#if something goes wrong, break!\n",
    "        print('breaking')\n",
    "        break\n",
    "    if i % (1000) == 0: #for every 1000 update, compute the test loss\n",
    "        [test_loss, mean_abs_err] = sess.run([loss, mae], feed_dict = {tf_train_data: test_Input, \\\n",
    "                 tf_train_out: test_Output})\n",
    "        \n",
    "        print(\"step %d, training loss: %g,test loss: %g\" % (i, train_loss, test_loss))\n",
    "        \n",
    "        train_losses.append(train_loss)\n",
    "        test_losses.append(test_loss)\n",
    "        mean_abs_errs.append(mean_abs_err)"
   ]
  },
  {
   "cell_type": "code",
   "execution_count": 109,
   "metadata": {},
   "outputs": [
    {
     "data": {
      "image/png": "[encoded data removed]",
      "text/plain": [
       "<Figure size 432x288 with 1 Axes>"
      ]
     },
     "metadata": {
      "needs_background": "light"
     },
     "output_type": "display_data"
    }
   ],
   "source": [
    "#plot the results\n",
    "#fig = plt.figure(figsize=(5,5))\n",
    "plt.plot(range(1,len(test_losses)),test_losses[1:],'b-', label = 'test')\n",
    "plt.plot(range(1,len(train_losses)),train_losses[1:],'g-', label = 'train')\n",
    "plt.plot(range(1,len(mean_abs_errs)),mean_abs_errs[1:],'y-', label = 'mae')\n",
    "plt.title('Train and Test Loss over Iterations')\n",
    "plt.legend(loc = 'upper right')\n",
    "figname = '/Users/irene/Documents/UCD/2019_spring/RTG_presentation/code/plot/losses.pdf'\n",
    "plt.savefig(figname, bbox_inches='tight')\n",
    "plt.show();\n",
    "#plt.close(fig)\n",
    "\n"
   ]
  },
  {
   "cell_type": "code",
   "execution_count": null,
   "metadata": {},
   "outputs": [],
   "source": []
  }
 ],
 "metadata": {
  "kernelspec": {
   "display_name": "Python 3",
   "language": "python",
   "name": "python3"
  },
  "language_info": {
   "codemirror_mode": {
    "name": "ipython",
    "version": 3
   },
   "file_extension": ".py",
   "mimetype": "text/x-python",
   "name": "python",
   "nbconvert_exporter": "python",
   "pygments_lexer": "ipython3",
   "version": "3.6.7"
  }
 },
 "nbformat": 4,
 "nbformat_minor": 2
}
